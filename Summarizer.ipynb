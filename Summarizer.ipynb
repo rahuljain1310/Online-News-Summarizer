{
 "cells": [
  {
   "cell_type": "markdown",
   "metadata": {},
   "source": [
    "# Indian News Summarizer "
   ]
  },
  {
   "cell_type": "markdown",
   "metadata": {},
   "source": [
    "#### Importing Libraries Summarizer"
   ]
  },
  {
   "cell_type": "code",
   "execution_count": null,
   "metadata": {},
   "outputs": [],
   "source": [
    "from nltk.tokenize import sent_tokenize, word_tokenize\n",
    "from nltk.corpus import stopwords\n",
    "from string import punctuation\n",
    "from nltk.probability import FreqDist\n",
    "from heapq import nlargest\n",
    "from collections import defaultdict\n",
    "import os,math"
   ]
  },
  {
   "cell_type": "markdown",
   "metadata": {},
   "source": [
    "#### Summary Extraction Step Functions"
   ]
  },
  {
   "cell_type": "code",
   "execution_count": null,
   "metadata": {},
   "outputs": [],
   "source": [
    "def read_file(path):\n",
    "    try:\n",
    "        with open(path, 'r',encoding='utf-8') as file:\n",
    "            return file.read()\n",
    "    except IOError as e:\n",
    "        print(e)\n",
    "        print(\"Fatal Error: File ({}) could not be located or is not readable.\".format(path))\n",
    "        \n",
    "def sanitize_input(data):\n",
    "    replace = {\n",
    "        ord('\\f') : ' ', \n",
    "        ord('\\t') : ' ',\n",
    "        ord('\\n') : ' ',\n",
    "        ord('\\r') : None\n",
    "    }\n",
    "    return data.translate(replace)\n",
    "\n",
    "def tokenize_content(content):\n",
    "    stop_words = set(stopwords.words('english') + list(punctuation))\n",
    "    words = word_tokenize(content.lower())\n",
    "    return [sent_tokenize(content), [word for word in words if word not in stop_words] ]\n",
    "\n",
    "def score_tokens(filterd_words, sentence_tokens):\n",
    "    word_freq = FreqDist(filterd_words)\n",
    "    ranking = defaultdict(int)\n",
    "    for i, sentence in enumerate(sentence_tokens):\n",
    "        for word in word_tokenize(sentence.lower()):\n",
    "            if word in word_freq:\n",
    "                ranking[i] += word_freq[word]\n",
    "    return ranking\n",
    "\n",
    "def summarize(ranks, sentences, length):\n",
    "    if int(length) > len(sentences): \n",
    "        print(\"Error, more sentences requested than available. Use --l (--length) flag to adjust.\")\n",
    "        exit()\n",
    "\n",
    "    indexes = nlargest(length, ranks, key=ranks.get)\n",
    "    final_sentences = [sentences[j] for j in sorted(indexes)]\n",
    "    return ' '.join(final_sentences) "
   ]
  },
  {
   "cell_type": "markdown",
   "metadata": {},
   "source": [
    "####  Extract Summary From File / Content"
   ]
  },
  {
   "cell_type": "code",
   "execution_count": null,
   "metadata": {},
   "outputs": [],
   "source": [
    "def SummaryFromContent(content,length=None):\n",
    "    content = sanitize_input(content)\n",
    "    sentence_tokens, word_tokens = tokenize_content(content)  \n",
    "    sentence_ranks = score_tokens(word_tokens, sentence_tokens)\n",
    "    if not length:\n",
    "        length = int (math.sqrt(len(sentence_ranks))+1)\n",
    "    summary =  summarize(sentence_ranks, sentence_tokens, length)\n",
    "    return summary\n",
    "def SummaryFromFile(filepath,length=None):\n",
    "    content = read_file(filepath)\n",
    "    return SummaryFromContent(content,length)"
   ]
  },
  {
   "cell_type": "markdown",
   "metadata": {},
   "source": [
    "##### Test Summary "
   ]
  },
  {
   "cell_type": "code",
   "execution_count": null,
   "metadata": {},
   "outputs": [],
   "source": [
    "filepath = os.getcwd()+'\\\\News.txt'\n",
    "length = 4\n",
    "SummaryFromFile(filepath)"
   ]
  },
  {
   "cell_type": "markdown",
   "metadata": {},
   "source": [
    "## Extracting Indian Express"
   ]
  },
  {
   "cell_type": "markdown",
   "metadata": {},
   "source": [
    "#### Installing Web Extraction libraries"
   ]
  },
  {
   "cell_type": "code",
   "execution_count": null,
   "metadata": {},
   "outputs": [],
   "source": [
    "import bs4\n",
    "import urllib3\n",
    "import csv\n",
    "urllib3.disable_warnings()\n",
    "http = urllib3.PoolManager()"
   ]
  },
  {
   "cell_type": "markdown",
   "metadata": {},
   "source": [
    "#### Step Functions Scraping Articles"
   ]
  },
  {
   "cell_type": "code",
   "execution_count": null,
   "metadata": {},
   "outputs": [],
   "source": [
    "def NewsLinksHindu(mainlink):\n",
    "    news = []\n",
    "    r = http.request('GET', mainlink)\n",
    "    source = r.data\n",
    "    if(r.status==200):\n",
    "        soup = bs4.BeautifulSoup(source, \"lxml\")\n",
    "        archivesList = soup.find('ul',{'class':'archive-list'})\n",
    "        news = [link.get('href') for link in archivesList.findAll('a') ]\n",
    "    return news\n",
    "\n",
    "def NewsLinksIndianExpress(mainlink):\n",
    "    news = []\n",
    "    title = mainlink.split('/')[-2]\n",
    "    r = http.request('GET', mainlink)\n",
    "    source = r.data\n",
    "    if(r.status==200):\n",
    "        soup = bs4.BeautifulSoup(source, \"lxml\")\n",
    "        news = [link.get('href') for link in soup.findAll('a')]\n",
    "        news = [c for c in news if not c.find('article/'+title) ==-1 ]\n",
    "    return news\n",
    "\n",
    "def getArticleFromLink(link):\n",
    "    r = http.request('GET', link)\n",
    "    source = r.data\n",
    "    Article = {}\n",
    "    if(r.status==200):\n",
    "        soup = bs4.BeautifulSoup(source, \"lxml\")\n",
    "        heading = soup.find('h1', {'class':'m-story-header__title'}).contents[0]\n",
    "        heading = sanitize_input(heading)\n",
    "        subheading = soup.find('h2', {'class':'m-story-header__intro'}).contents[0]\n",
    "        subheading = sanitize_input(subheading)\n",
    "        ArticleDiv = soup.find('div',{'class':'o-story-content__main'})\n",
    "        ArticlePara = [p.contents[0] for p in ArticleDiv.findAll('p')]\n",
    "        ArticlePara = [c.encode('utf-8').decode() for c in ArticlePara]\n",
    "        Content = ' '.join(ArticlePara)\n",
    "        Content = sanitize_input(Content)\n",
    "        Article = [heading,subheading,Content]\n",
    "        return Article\n",
    "def ArticlesFromSection(mainlink):\n",
    "    articleLinks = NewsLinksIndianExpress(mainlink)\n",
    "    return [getArticleFromLink(e) for e in articleLinks[1:2]]"
   ]
  },
  {
   "cell_type": "markdown",
   "metadata": {},
   "source": [
    "#### Testing Scraping"
   ]
  },
  {
   "cell_type": "code",
   "execution_count": null,
   "metadata": {},
   "outputs": [],
   "source": [
    "links = ['https://indianexpress.com/section/cities/']\n",
    "articles = {}\n",
    "for c in links:\n",
    "    title = c.split('/')[-2]\n",
    "    articles[title] = ArticlesFromSection(c)\n",
    "    print(articles[title])"
   ]
  },
  {
   "cell_type": "markdown",
   "metadata": {},
   "source": [
    "# Scraping And Summarising"
   ]
  },
  {
   "cell_type": "code",
   "execution_count": null,
   "metadata": {},
   "outputs": [],
   "source": [
    "from termcolor import colored"
   ]
  },
  {
   "cell_type": "code",
   "execution_count": null,
   "metadata": {},
   "outputs": [],
   "source": [
    "def getSummarizedArticle(link,length):\n",
    "    Article = getArticleFromLink(link)\n",
    "    Article[2] = SummaryFromContent(Article[2],length)\n",
    "    return Article\n",
    "def getSummarizedArticleSection(mainlink,lengthSummary,noArticles=1):\n",
    "    articleLinks = NewsLinksIndianExpress(mainlink)\n",
    "    return [getSummarizedArticle(e,lengthSummary) for e in articleLinks[1:1+noArticles]]\n",
    "def getPrintSummarizedSections(sectionLinks,sumLength,noArticles):\n",
    "    for c in links:\n",
    "        title = c.split('/')[-2]\n",
    "        print(colored(title,'green')+'\\n')\n",
    "        articles[title] = getSummarizedArticleSection(c,sumLength,noArticles)\n",
    "        for x in articles[title]: \n",
    "            print(colored(x[0],'red')+'\\n')\n",
    "            print(colored(x[1],'blue')+'\\n')\n",
    "            print(x[2]+'\\n')"
   ]
  },
  {
   "cell_type": "code",
   "execution_count": 117,
   "metadata": {
    "scrolled": false
   },
   "outputs": [],
   "source": [
    "links = ['https://indianexpress.com/section/cities/',\n",
    "         'https://indianexpress.com/section/india/',\n",
    "         'https://indianexpress.com/section/world/']\n",
    "summaryLength = 4\n",
    "ArticlesPerSection = 4"
   ]
  },
  {
   "cell_type": "code",
   "execution_count": 118,
   "metadata": {
    "scrolled": false
   },
   "outputs": [
    {
     "name": "stdout",
     "output_type": "stream",
     "text": [
      "\u001b[32mcities\u001b[0m\n",
      "\n",
      "\u001b[31m    Temple vandalism: Amit Shah meets Delhi Police chief, sends stern message  \u001b[0m\n",
      "\n",
      "\u001b[34m    Shah is learnt to have taken a stern view of the failure of local intelligence, and told Patnaik that another such incident “would not be tolerated”.  \u001b[0m\n",
      "\n",
      "Union Home Minister Amit Shah Wednesday summoned Delhi Police Commissioner Amulya Patnaik in connection with the  According to sources, Patnaik received a message Tuesday night to meet with Shah and brief him about the incident. “On Wednesday, Patnaik first met with the special CP (law and order, northern range) Sandeep Goel and joint CP (central) Rajesh Khurana, and they prepared a report with details of the incident, preventive action and how they handled the situation,” the source said. Shah is learnt to have taken a stern view of the failure of local intelligence, and told Patnaik that another such incident “would not be tolerated”. He also expressed displeasure over back-to-back incidents “exposing police inefficiency”, referring also to the assault of a Sikh tempo driver and his son by police.\n",
      "\n",
      "\u001b[31m    Delhi: Classroom politics escalates as BJP fires fresh salvo  \u001b[0m\n",
      "\n",
      "\u001b[34m    Citing purported minutes of Delhi government’s Finance Committee meeting in March 2018, Tiwari claimed the government constructed 366 nursery classrooms at an estimated cost of Rs 28.70 lakh each.  \u001b[0m\n",
      "\n",
      "Delhi  The Delhi BJP has alleged a “scam” of Rs 2,000 crore in construction of classrooms at Delhi government schools, and has sought the resignation of Sisodia, who is also the education minister. AAP chief spokesperson Saurabh Bhardwaj said Tiwari has nothing positive to say on education and has failed to list even 10 schools in BJP-ruled states which can be compared to Delhi government schools. He said the Delhi BJP and its president were trying to “malign” the AAP model of education by levelling “totally baseless and fabricated” allegations. Leader of Opposition Vijender Gupta, who released the report, said that while the average pass percentage of Class X in private schools in Delhi was 93.18%, at Delhi government schools the figure stood at 71.58%.\n",
      "\n",
      "\u001b[31m    Delhi: Classroom politics escalates as BJP fires fresh salvo  \u001b[0m\n",
      "\n",
      "\u001b[34m    Citing purported minutes of Delhi government’s Finance Committee meeting in March 2018, Tiwari claimed the government constructed 366 nursery classrooms at an estimated cost of Rs 28.70 lakh each.  \u001b[0m\n",
      "\n",
      "Delhi  The Delhi BJP has alleged a “scam” of Rs 2,000 crore in construction of classrooms at Delhi government schools, and has sought the resignation of Sisodia, who is also the education minister. AAP chief spokesperson Saurabh Bhardwaj said Tiwari has nothing positive to say on education and has failed to list even 10 schools in BJP-ruled states which can be compared to Delhi government schools. He said the Delhi BJP and its president were trying to “malign” the AAP model of education by levelling “totally baseless and fabricated” allegations. Leader of Opposition Vijender Gupta, who released the report, said that while the average pass percentage of Class X in private schools in Delhi was 93.18%, at Delhi government schools the figure stood at 71.58%.\n",
      "\n",
      "\u001b[31m    Temple vandalism: BJP says AAP MLA part of mob, he files police complaint  \u001b[0m\n",
      "\n",
      "\u001b[34m    The temple had been vandalised Sunday night after an argument over parking took a communal turn.  \u001b[0m\n",
      "\n",
      "DCP (Central) Mandeep Singh Randhawa, however, denied Hussain’s claim, saying: “Neither I nor the area SHO had called Imran Hussain to the spot. Earlier in the day, Goel also demanded action against Hussain for his alleged “role” in the vandalism. <strong>Also read | <a href=\"https://indianexpress.com/article/cities/delhi/temple-vandalism-amit-shah-meets-delhi-police-chief-amulya-patnaik-sends-stern-message-5813741/\">Temple vandalism: Amit Shah meets Delhi Police chief, sends stern message</a></strong> In his police complaint against Goel, Sirsa and a news website, Hussain alleged they had circulated false rumours about him. Quoting tweets by the BJP leaders, he said in the complaint: “The publication on Twitter which has been widely circulated by Sirsa with the intent to incite, or which is likely to incite, any class or community of persons to commit any offence against any other class or community… This statement is illegal and intends to provoke the offence of rioting.” He further demanded that a case under the IT Act be registered.\n",
      "\n",
      "\u001b[32mindia\u001b[0m\n",
      "\n",
      "\u001b[31m    Days after letter to Bengal on ‘rising’ violence, govt says no data on crime since 2016  \u001b[0m\n",
      "\n",
      "\u001b[34m    This comes days after the Union Ministry of Home Affairs (MHA) sent an advisory to the West Bengal government on June 15 in the wake of agitation by doctors in the state. In it, the MHA had quoted reports available with the ministry to give exact figures of political violence in the state.  \u001b[0m\n",
      "\n",
      "Correspondingly, the death toll rose from 36 in 2016 to 96 in 2018, while 26 deaths have already taken place in 2019 till date.” This was the second of three MHA missives to West Bengal on law and order situation in the state since the Lok Sabha election results were announced on May 23. Published data for the years 2017, 2018, 2019 are not available.” In its June 15 communication, the Centre had sought a report from the TMC government in Bengal on measures taken to contain political violence and to investigate such incidents of violence to bring the culprits to book. Pointing out the growing number of incidents of election-related and political violence, and casualties over four years from 2016 to 2019, the Home Ministry had stated that “unabated violence over the years is evidently a matter of deep concern”. The June 15 advisory stated, “Continued trend of political violence from 2016 through 2019, as evident from the above figures, is indicative of failure on the part of the law enforcement machinery of the State to maintain rule of law and to inspire a sense of security among the people.\n",
      "\n",
      "\u001b[31m    Centre says no move on Bengal name change, Mamata writes to PM Modi  \u001b[0m\n",
      "\n",
      "\u001b[34m    In her letter, Banerjee has urged the PM to get the required constitutional amendment done during the current Parliament session.  \u001b[0m\n",
      "\n",
      "The Centre on Wednesday told Rajya Sabha that no move has been made on changing the name of West Bengal to Bangla, prompting Chief Minister  In a written response to a question by Independent MP Ritabrata Banerjee, Minister of State for Home Affairs, Nityanand Rai, said the Centre has not yet given its nod to change the name of West Bengal to Bangla as proposed by the state government. Banerjee wrote that on September 8, 2017, the state cabinet decided that the name of the state should be “Bangla’’ in Bengali and the Assembly followed it up with a resolution on July 26, 2018. In 2016, the state government proposed ‘Bengal’ in English, ‘Bangla’ in Bengali and ‘Bangal’ in Hindi. Meanwhile, Leader of the Opposition in Assembly Abdul Mannan said, “The Centre’s decision not to change the state’s name is politically motivated.” Left Front Legislature Party leader Sujan Chakraborty said, “It is unfortunate that the aspirations of the people of Bengal are not being respected by the central government.” <a href=\"https://indianexpress.com/about/bjp/\">BJP</a>\n",
      "\n",
      "\u001b[31m    Centre says no move on Bengal name change, Mamata writes to PM Modi  \u001b[0m\n",
      "\n",
      "\u001b[34m    In her letter, Banerjee has urged the PM to get the required constitutional amendment done during the current Parliament session.  \u001b[0m\n",
      "\n",
      "The Centre on Wednesday told Rajya Sabha that no move has been made on changing the name of West Bengal to Bangla, prompting Chief Minister  In a written response to a question by Independent MP Ritabrata Banerjee, Minister of State for Home Affairs, Nityanand Rai, said the Centre has not yet given its nod to change the name of West Bengal to Bangla as proposed by the state government. Banerjee wrote that on September 8, 2017, the state cabinet decided that the name of the state should be “Bangla’’ in Bengali and the Assembly followed it up with a resolution on July 26, 2018. In 2016, the state government proposed ‘Bengal’ in English, ‘Bangla’ in Bengali and ‘Bangal’ in Hindi. Meanwhile, Leader of the Opposition in Assembly Abdul Mannan said, “The Centre’s decision not to change the state’s name is politically motivated.” Left Front Legislature Party leader Sujan Chakraborty said, “It is unfortunate that the aspirations of the people of Bengal are not being respected by the central government.” <a href=\"https://indianexpress.com/about/bjp/\">BJP</a>\n",
      "\n",
      "\u001b[31m    Opposition parties seek return to ballot, Ravi Shankar Prasad says hypocrisy  \u001b[0m\n",
      "\n",
      "\u001b[34m    Law Minister Ravi Shankar Prasad accused the Opposition of adopting double standards on the issue of EVMs. He said leaders from their parties had become chief ministers, and the Prime Minister, through the same voting process.  \u001b[0m\n",
      "\n",
      "The debate on electoral reforms in Rajya Sabha on Wednesday saw several opposition parties demanding a return to ballot papers from the electronic voting machines (EVMs) and seeking steps to curb use of money power in elections, while the government and the  Law Minister Ravi Shankar Prasad accused the Opposition of adopting double standards on the issue of EVMs. “This hypocrisy and double standards impinge upon the polity of the country.” Opposition members, particularly Congress’s Kapil Sibal, claimed that the BJP outspent other parties in these elections and argued that the saffron party enjoyed complete hegemony on electronic and print media when it came to advertisements. Along with Sibal, Trinamool Congress’s Derek O’Brien and  Prasad and BJP’s Bhupendra Yadav pitched for the “One Nation One Poll” and urged the Opposition to consider the proposal with an open mind. He said  Replying to the charge of managing traditional and social media, Prasad said, “Stop insulting the voters of this country and try to acknowledge your defeat.” The minister said the government would not allow misuse of data by foreign powers and said legislation in this regard has been in the works.\n",
      "\n",
      "\u001b[32mworld\u001b[0m\n",
      "\n"
     ]
    },
    {
     "name": "stdout",
     "output_type": "stream",
     "text": [
      "\u001b[31m    Volcano erupts on Italian island of Stromboli, starts fires  \u001b[0m\n",
      "\n",
      "\u001b[34m    Rescue services said the eruption had started fires on the western side of the small Mediterranean island north of Sicily.  \u001b[0m\n",
      "\n",
      "A volcano on the Italian island of Stromboli erupted on Wednesday, throwing ash high into the sky and enveloping the popular tourist destination in smoke, the National Institute of Geophysics and Vulcanology (INGV) said. Rescue services said the eruption had started fires on the western side of the small Mediterranean island north of Sicily. There was a loud roar,” said Michela Favorito, who works in a hotel near Fico Grande, on the east side of the island. INGV expert Stefano Branca told Reuters there had been a “paroxysmal eruption” on the island, when high-pressure magma explodes from a shallow, underground reservoir.\n",
      "\n",
      "\u001b[31m    Fire destroys Jim Beam warehouse filled with bourbon barrels  \u001b[0m\n",
      "\n",
      "\u001b[34m    Jim Beam is the world's largest bourbon brand. The classic American whiskey brand is owned by Suntory Holdings Ltd., a Japanese beverage company.  \u001b[0m\n",
      "\n",
      "A fire destroyed a massive Jim Beam warehouse filled with 45,000 barrels of bourbon, sending flames shooting into the night sky and generating so much heat that firetruck lights melted, authorities said Wednesday. “So when they go to put it out, there will be less contaminated runoff that goes into a drinking-water tributary.” Beam Suntory officials said the multi-story warehouse that burned contained “relatively young whiskey,” meaning it had not reached maturity for bottling for consumers. “Given the age of the lost whiskey, this fire will not impact the availability of Jim Beam for consumers,” the spirits company said in a statement. Beam Suntory officials said the distiller has a “comprehensive” warehouse safety program that includes regular inspections and “rigorous protocols” to promote safety.\n",
      "\n",
      "\u001b[31m    Fire destroys Jim Beam warehouse filled with bourbon barrels  \u001b[0m\n",
      "\n",
      "\u001b[34m    Jim Beam is the world's largest bourbon brand. The classic American whiskey brand is owned by Suntory Holdings Ltd., a Japanese beverage company.  \u001b[0m\n",
      "\n",
      "A fire destroyed a massive Jim Beam warehouse filled with 45,000 barrels of bourbon, sending flames shooting into the night sky and generating so much heat that firetruck lights melted, authorities said Wednesday. “So when they go to put it out, there will be less contaminated runoff that goes into a drinking-water tributary.” Beam Suntory officials said the multi-story warehouse that burned contained “relatively young whiskey,” meaning it had not reached maturity for bottling for consumers. “Given the age of the lost whiskey, this fire will not impact the availability of Jim Beam for consumers,” the spirits company said in a statement. Beam Suntory officials said the distiller has a “comprehensive” warehouse safety program that includes regular inspections and “rigorous protocols” to promote safety.\n",
      "\n",
      "\u001b[31m    US declares Baloch separatist group BLA a terror outfit  \u001b[0m\n",
      "\n",
      "\u001b[34m    \"The BLA is an armed separatist group that targets security forces and civilians, mainly in ethnic Baloch areas of Pakistan,\" the State department said. The department made it a crime for anyone in the US to assist the BLA militants.  \u001b[0m\n",
      "\n",
      "The US has declared separatist group Balochistan Liberation Army (BLA), which is fighting Pakistani rule in the restive Balochistan province, as a terrorist organisation, weeks after it attacked a five-star hotel in the port city of Gwadar. “The BLA is an armed separatist group that targets security forces and civilians, mainly in ethnic Baloch areas of Pakistan,” the State Department said Tuesday. “The outfit has carried out several terrorist attacks in the past year, including a suicide attack in August, 2018 that targeted Chinese engineers in Balochistan, a November, 2018 attack on the Chinese consulate in Karachi, and a May, 2019 attack against a luxury hotel in Gwadar,” it added. US State Department’s ban on BLA is beyond comprehension and unjustified,” he said in a statement.\n",
      "\n"
     ]
    }
   ],
   "source": [
    "getPrintSummarizedSections(links,summaryLength,ArticlesPerSection)"
   ]
  },
  {
   "cell_type": "code",
   "execution_count": null,
   "metadata": {
    "scrolled": true
   },
   "outputs": [],
   "source": []
  }
 ],
 "metadata": {
  "kernelspec": {
   "display_name": "Python 3",
   "language": "python",
   "name": "python3"
  },
  "language_info": {
   "codemirror_mode": {
    "name": "ipython",
    "version": 3
   },
   "file_extension": ".py",
   "mimetype": "text/x-python",
   "name": "python",
   "nbconvert_exporter": "python",
   "pygments_lexer": "ipython3",
   "version": "3.6.8"
  }
 },
 "nbformat": 4,
 "nbformat_minor": 2
}
