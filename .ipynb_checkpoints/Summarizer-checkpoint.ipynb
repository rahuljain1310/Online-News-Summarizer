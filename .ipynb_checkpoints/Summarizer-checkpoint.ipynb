{
 "cells": [
  {
   "cell_type": "markdown",
   "metadata": {},
   "source": [
    "# Indian News Summarizer "
   ]
  },
  {
   "cell_type": "markdown",
   "metadata": {},
   "source": [
    "#### Importing Libraries Summarizer"
   ]
  },
  {
   "cell_type": "code",
   "execution_count": null,
   "metadata": {},
   "outputs": [],
   "source": [
    "from nltk.tokenize import sent_tokenize, word_tokenize\n",
    "from nltk.corpus import stopwords\n",
    "from string import punctuation\n",
    "from nltk.probability import FreqDist\n",
    "from heapq import nlargest\n",
    "from collections import defaultdict\n",
    "import os,math"
   ]
  },
  {
   "cell_type": "markdown",
   "metadata": {},
   "source": [
    "#### Summary Extraction Step Functions"
   ]
  },
  {
   "cell_type": "code",
   "execution_count": null,
   "metadata": {},
   "outputs": [],
   "source": [
    "def read_file(path):\n",
    "    try:\n",
    "        with open(path, 'r',encoding='utf-8') as file:\n",
    "            return file.read()\n",
    "    except IOError as e:\n",
    "        print(e)\n",
    "        print(\"Fatal Error: File ({}) could not be located or is not readable.\".format(path))\n",
    "        \n",
    "def sanitize_input(data):\n",
    "    replace = {\n",
    "        ord('\\f') : ' ', \n",
    "        ord('\\t') : ' ',\n",
    "        ord('\\n') : ' ',\n",
    "        ord('\\r') : None\n",
    "    }\n",
    "    return data.translate(replace)\n",
    "\n",
    "def tokenize_content(content):\n",
    "    stop_words = set(stopwords.words('english') + list(punctuation))\n",
    "    words = word_tokenize(content.lower())\n",
    "    return [sent_tokenize(content), [word for word in words if word not in stop_words] ]\n",
    "\n",
    "def score_tokens(filterd_words, sentence_tokens):\n",
    "    word_freq = FreqDist(filterd_words)\n",
    "    ranking = defaultdict(int)\n",
    "    for i, sentence in enumerate(sentence_tokens):\n",
    "        for word in word_tokenize(sentence.lower()):\n",
    "            if word in word_freq:\n",
    "                ranking[i] += word_freq[word]\n",
    "    return ranking\n",
    "\n",
    "def summarize(ranks, sentences, length):\n",
    "    if int(length) > len(sentences): \n",
    "        print(\"Error, more sentences requested than available. Use --l (--length) flag to adjust.\")\n",
    "        exit()\n",
    "\n",
    "    indexes = nlargest(length, ranks, key=ranks.get)\n",
    "    final_sentences = [sentences[j] for j in sorted(indexes)]\n",
    "    return ' '.join(final_sentences) "
   ]
  },
  {
   "cell_type": "markdown",
   "metadata": {},
   "source": [
    "####  Extract Summary From File / Content"
   ]
  },
  {
   "cell_type": "code",
   "execution_count": null,
   "metadata": {},
   "outputs": [],
   "source": [
    "def SummaryFromContent(content,length=None):\n",
    "    content = sanitize_input(content)\n",
    "    sentence_tokens, word_tokens = tokenize_content(content)  \n",
    "    sentence_ranks = score_tokens(word_tokens, sentence_tokens)\n",
    "    if not length:\n",
    "        length = int (math.sqrt(len(sentence_ranks))+1)\n",
    "    summary =  summarize(sentence_ranks, sentence_tokens, length)\n",
    "    return summary\n",
    "def SummaryFromFile(filepath,length=None):\n",
    "    content = read_file(filepath)\n",
    "    return SummaryFromContent(content,length)"
   ]
  },
  {
   "cell_type": "markdown",
   "metadata": {},
   "source": [
    "##### Test Summary "
   ]
  },
  {
   "cell_type": "code",
   "execution_count": null,
   "metadata": {},
   "outputs": [],
   "source": [
    "filepath = os.getcwd()+'\\\\News.txt'\n",
    "length = 4\n",
    "SummaryFromFile(filepath)"
   ]
  },
  {
   "cell_type": "markdown",
   "metadata": {},
   "source": [
    "## Extracting Indian Express"
   ]
  },
  {
   "cell_type": "markdown",
   "metadata": {},
   "source": [
    "#### Installing Web Extraction libraries"
   ]
  },
  {
   "cell_type": "code",
   "execution_count": null,
   "metadata": {},
   "outputs": [],
   "source": [
    "import bs4\n",
    "import urllib3\n",
    "import csv\n",
    "urllib3.disable_warnings()\n",
    "http = urllib3.PoolManager()"
   ]
  },
  {
   "cell_type": "markdown",
   "metadata": {},
   "source": [
    "#### Step Functions Scraping Articles"
   ]
  },
  {
   "cell_type": "code",
   "execution_count": 43,
   "metadata": {},
   "outputs": [],
   "source": [
    "def remove_html_tags(text):\n",
    "    \"\"\"Remove html tags from a string\"\"\"\n",
    "    import re\n",
    "    clean = re.compile('<.*?>')\n",
    "    return re.sub(clean, '', text)\n",
    "\n",
    "def remove_duplicate_links(links):\n",
    "    res = []\n",
    "    code = []\n",
    "    for x in links:\n",
    "        y = x.split('-')\n",
    "        if y not in code:\n",
    "            code.append(y)\n",
    "            res.append(x)\n",
    "            print(x.split('-')[-1])\n",
    "    return res"
   ]
  },
  {
   "cell_type": "code",
   "execution_count": 44,
   "metadata": {},
   "outputs": [],
   "source": [
    "def NewsLinksHindu(mainlink):\n",
    "    news = []\n",
    "    r = http.request('GET', mainlink)\n",
    "    source = r.data\n",
    "    if(r.status==200):\n",
    "        soup = bs4.BeautifulSoup(source, \"lxml\")\n",
    "        archivesList = soup.find('ul',{'class':'archive-list'})\n",
    "        news = [link.get('href') for link in archivesList.findAll('a') ]\n",
    "    return news\n",
    "\n",
    "def NewsLinksIndianExpress(mainlink):\n",
    "    news = []\n",
    "    title = mainlink.split('/')[-2]\n",
    "    r = http.request('GET', mainlink)\n",
    "    source = r.data\n",
    "    if(r.status==200):\n",
    "        soup = bs4.BeautifulSoup(source, \"lxml\")\n",
    "        news = [link.get('href') for link in soup.findAll('a')]\n",
    "        news = [c for c in news if not c.find('article/'+title) ==-1 ]\n",
    "    return news\n",
    "\n",
    "def getArticleFromLink(link):\n",
    "    r = http.request('GET', link)\n",
    "    source = r.data\n",
    "    Article = {}\n",
    "    if(r.status==200):\n",
    "        soup = bs4.BeautifulSoup(source, \"lxml\")\n",
    "        heading = soup.find('h1', {'class':'m-story-header__title'}).contents[0]\n",
    "        heading = sanitize_input(heading)\n",
    "        subheading = soup.find('h2', {'class':'m-story-header__intro'}).contents[0]\n",
    "        subheading = sanitize_input(subheading)\n",
    "        ArticleDiv = soup.find('div',{'class':'o-story-content__main'})\n",
    "        ArticlePara = [p.contents[0] for p in ArticleDiv.findAll('p')]\n",
    "        ArticlePara = [c.encode('utf-8').decode() for c in ArticlePara]\n",
    "        Content = ' '.join(ArticlePara)\n",
    "        Content = sanitize_input(Content)\n",
    "        Content = remove_html_tags(Content)\n",
    "        Article = [heading,subheading,Content]\n",
    "        return Article\n",
    "    \n",
    "def ArticlesFromSection(mainlink):\n",
    "    articleLinks = NewsLinksIndianExpress(mainlink)\n",
    "    articleLinks = remove_duplicate_links(articleLinks)\n",
    "    return [getArticleFromLink(e) for e in articleLinks[1:2]]"
   ]
  },
  {
   "cell_type": "markdown",
   "metadata": {},
   "source": [
    "#### Testing Scraping"
   ]
  },
  {
   "cell_type": "code",
   "execution_count": 45,
   "metadata": {},
   "outputs": [
    {
     "name": "stdout",
     "output_type": "stream",
     "text": [
      "5813813/\n",
      "5813813/\n",
      "5813806/\n",
      "5813806/\n",
      "5813808/\n",
      "5813808/\n",
      "5813796/\n",
      "5813796/\n",
      "5813545/\n",
      "5813545/\n",
      "5813785/\n",
      "5813785/\n",
      "5813795/\n",
      "5813795/\n",
      "5813776/\n",
      "5813776/\n",
      "5813774/\n",
      "5813774/\n",
      "5813741/\n",
      "5813741/\n",
      "5813754/\n",
      "5813754/\n",
      "5813734/\n",
      "5813734/\n",
      "5808312/\n",
      "5808312/\n",
      "5813649/\n",
      "5813649/\n",
      "5812123/\n",
      "5812123/\n",
      "5812068/\n",
      "5812068/\n",
      "5812737/\n",
      "5812737/\n",
      "[['    Delhi: Man held for fraud worth Rs 1.4 crore  ', '    Surappagari Sampath Kumar was arrested Tuesday from a Delhi hotel on the charges of duping, forgery and criminal intimidation.  ', 'A man from Hyderabad was arrested by Delhi Police’s Crime Branch for allegedly impersonating a bureaucrat and looting people by promising to help them procure petrol pump licences. Surappagari Sampath Kumar (29) was arrested Tuesday from a Delhi hotel on the charges of duping, forgery and criminal intimidation. “The complainant, Malipaddy Sandeep, alleged he was deceived into giving Rs 1.4 crore to Kumar and his associate, K Ramaswamy, in 2017,” said G Ram Gopal Naik, DCP (Crime). Police said that after paying the amount, Sandeep was unable to contact the accused. When the accused responded, he refused to return the money and threatened to kill him if he approached police. Sandeep eventually approached police in February.']]\n"
     ]
    }
   ],
   "source": [
    "links = ['https://indianexpress.com/section/cities/']\n",
    "articles = {}\n",
    "for c in links:\n",
    "    title = c.split('/')[-2]\n",
    "    articles[title] = ArticlesFromSection(c)\n",
    "    print(articles[title])"
   ]
  },
  {
   "cell_type": "markdown",
   "metadata": {},
   "source": [
    "# Scraping And Summarising"
   ]
  },
  {
   "cell_type": "code",
   "execution_count": 46,
   "metadata": {},
   "outputs": [],
   "source": [
    "from termcolor import colored"
   ]
  },
  {
   "cell_type": "code",
   "execution_count": 40,
   "metadata": {},
   "outputs": [],
   "source": [
    "def getSummarizedArticle(link,length):\n",
    "    Article = getArticleFromLink(link)\n",
    "    Article[2] = SummaryFromContent(Article[2],length)\n",
    "    return Article\n",
    "def getSummarizedArticleSection(mainlink,lengthSummary,noArticles=1):\n",
    "    articleLinks = NewsLinksIndianExpress(mainlink)\n",
    "    return [getSummarizedArticle(e,lengthSummary) for e in articleLinks[1:1+noArticles]]\n",
    "def getPrintSummarizedSections(sectionLinks,sumLength,noArticles):\n",
    "    articles = {}\n",
    "    for c in links:\n",
    "        title = c.split('/')[-2]\n",
    "        print(colored(title,'green')+'\\n')\n",
    "        articles[title] = getSummarizedArticleSection(c,sumLength,noArticles)\n",
    "        for x in articles[title]: \n",
    "            print(colored(x[0],'red')+'\\n')\n",
    "            print(colored(x[1],'blue')+'\\n')\n",
    "            print(x[2]+'\\n')"
   ]
  },
  {
   "cell_type": "code",
   "execution_count": 41,
   "metadata": {
    "scrolled": false
   },
   "outputs": [],
   "source": [
    "links = ['https://indianexpress.com/section/cities/',\n",
    "         'https://indianexpress.com/section/india/',\n",
    "         'https://indianexpress.com/section/world/']\n",
    "summaryLength = 4\n",
    "ArticlesPerSection = 4"
   ]
  },
  {
   "cell_type": "code",
   "execution_count": 42,
   "metadata": {
    "scrolled": false
   },
   "outputs": [
    {
     "name": "stdout",
     "output_type": "stream",
     "text": [
      "\u001b[32mcities\u001b[0m\n",
      "\n",
      "\u001b[31m    Delhi: Man held for fraud worth Rs 1.4 crore  \u001b[0m\n",
      "\n",
      "\u001b[34m    Surappagari Sampath Kumar was arrested Tuesday from a Delhi hotel on the charges of duping, forgery and criminal intimidation.  \u001b[0m\n",
      "\n",
      "A man from Hyderabad was arrested by Delhi Police’s Crime Branch for allegedly impersonating a bureaucrat and looting people by promising to help them procure petrol pump licences. Surappagari Sampath Kumar (29) was arrested Tuesday from a Delhi hotel on the charges of duping, forgery and criminal intimidation. “The complainant, Malipaddy Sandeep, alleged he was deceived into giving Rs 1.4 crore to Kumar and his associate, K Ramaswamy, in 2017,” said G Ram Gopal Naik, DCP (Crime). Police said that after paying the amount, Sandeep was unable to contact the accused.\n",
      "\n",
      "\u001b[31m    Expired meds, indifferent staff: Delhi zoo panel red flags  \u001b[0m\n",
      "\n",
      "\u001b[34m    The five-member committee looked into several claims, including cover-up of deaths of wild animals, illegal procurement of animals, and the disappearance of a Schedule X drug, Ketamine.  \u001b[0m\n",
      "\n",
      "An expired medicine being administered to wild animals for almost six years; “gross negligence” by staff and officers; and a possible tampering of records relating to a Schedule X drug —these are some of the findings of a high-level committee probing allegations of mismanagement at the National Zoological Park, popularly known as the Delhi zoo. From the statements of zoo officials, the committee found that those in charge of care of the Sika deer were either engaged with foreign delegates at the time, or placed responsibility to examine the deer on other officers, who also failed to visit the enclosure on June 17, 2016. Another allegation the committee probed was also based on a report by Dr Singh — on “illegal procurement of the ketamine drug, which went missing from the zoo.” The invoice of the company from which ketamine was sought shows that an order was placed by a zoo official for one 50 ml vial on September 5, 2015. Statements of two zoo officials mention that the entire 50 ml drug was issued on January 25, 2016, of which a quantity of 28 ml was used 23 times for the treatment of different animals, with 14 ml kept in dart syringes.\n",
      "\n",
      "\u001b[31m    Expired meds, indifferent staff: Delhi zoo panel red flags  \u001b[0m\n",
      "\n",
      "\u001b[34m    The five-member committee looked into several claims, including cover-up of deaths of wild animals, illegal procurement of animals, and the disappearance of a Schedule X drug, Ketamine.  \u001b[0m\n",
      "\n",
      "An expired medicine being administered to wild animals for almost six years; “gross negligence” by staff and officers; and a possible tampering of records relating to a Schedule X drug —these are some of the findings of a high-level committee probing allegations of mismanagement at the National Zoological Park, popularly known as the Delhi zoo. From the statements of zoo officials, the committee found that those in charge of care of the Sika deer were either engaged with foreign delegates at the time, or placed responsibility to examine the deer on other officers, who also failed to visit the enclosure on June 17, 2016. Another allegation the committee probed was also based on a report by Dr Singh — on “illegal procurement of the ketamine drug, which went missing from the zoo.” The invoice of the company from which ketamine was sought shows that an order was placed by a zoo official for one 50 ml vial on September 5, 2015. Statements of two zoo officials mention that the entire 50 ml drug was issued on January 25, 2016, of which a quantity of 28 ml was used 23 times for the treatment of different animals, with 14 ml kept in dart syringes.\n",
      "\n",
      "\u001b[31m    Gurgaon: Traffic constable run over after two vehicles collide, critical  \u001b[0m\n",
      "\n",
      "\u001b[34m    The complaint was submitted by traffic constable Dharamveer who, along with the injured, Jagbir, is a ‘highway traffic rider’.  \u001b[0m\n",
      "\n",
      "A traffic constable was injured after being run over by a Canter truck on late Tuesday night, while on duty at Gurgaon’s Rajiv Chowk along with a colleague. The complaint was submitted by traffic constable Dharamveer who, along with the injured, Jagbir, is a ‘highway traffic rider’. Both men were on duty from 8 pm on Tuesday, checking vehicles with the Station House Officer of Rajiv Chowk’s traffic police station, when the incident took place. In December last year, a driver dragged a traffic police constable on his car’s bonnet, when he tried to escape penalty for driving on the wrong side near Signature Tower.\n",
      "\n",
      "\u001b[32mindia\u001b[0m\n",
      "\n",
      "\u001b[31m    Mumbai rains: Five of family dead, 8-year-old lone survivor hasn’t spoken since tragedy  \u001b[0m\n",
      "\n",
      "\u001b[34m    Several slum dwellers murmured one question — who will look after the child now?  \u001b[0m\n",
      "\n",
      "IN a red T-shirt and pink shorts that she wore to sleep on Monday night, Priya Nanavare (8) stood outside Goregaon crematorium on Wednesday, clutching a water bottle. On Monday night, a wall collapsed at Pimpri Pada and Ambedkar Nagar in Malad East and water from BMC’s Malad Hill Reservoir washed away homes in adjoining settlements. READ | CM Fadnavis announces inquiry into Malad wall collapse At 1 am, Priya was rushed to Jogeshwari Trauma Care hospital, treated for a nose injury and discharged. On Tuesday, Priya waited at her aunt’s house as rescue teams tried to locate Rani, Deepa and Sanchita, who were trapped under the debris.\n",
      "\n",
      "\u001b[31m    Day after walls collapsed in Malad, toll climbs to 26  \u001b[0m\n",
      "\n",
      "\u001b[34m    Four more bodies were recovered from under the debris on Wednesday. Among them was three-year-old Akanksha Kurade, who was found wrapped in a bedsheet and trapped under a cupboard.  \u001b[0m\n",
      "\n",
      "A day after a concrete wall collapsed at two locations in Malad East, destroying hundreds of shanties on the hillock bordering the Brihanmumbai Municipal Corporation’s Malad Hill Reservoir, the death toll climbed from 22 to 26 on Wednesday. Autopsy details of several victims who succumbed at Dr RN Cooper hospital have shown that they died due to “traumatic asphyxiation” after remaining trapped under the debris for hours. The three-year-old found dead on Wednesday lay buried under furniture displaced during the incident, said National Disaster Response Force (NDRF) workers at Pimpri Pada, one of the two sites struck by the mishap. We don’t know how many more are still under the debris here,” said Naresh Lad (28), an employee of a private company in Lalbaug.\n",
      "\n",
      "\u001b[31m    Day after walls collapsed in Malad, toll climbs to 26  \u001b[0m\n",
      "\n",
      "\u001b[34m    Four more bodies were recovered from under the debris on Wednesday. Among them was three-year-old Akanksha Kurade, who was found wrapped in a bedsheet and trapped under a cupboard.  \u001b[0m\n",
      "\n",
      "A day after a concrete wall collapsed at two locations in Malad East, destroying hundreds of shanties on the hillock bordering the Brihanmumbai Municipal Corporation’s Malad Hill Reservoir, the death toll climbed from 22 to 26 on Wednesday. Autopsy details of several victims who succumbed at Dr RN Cooper hospital have shown that they died due to “traumatic asphyxiation” after remaining trapped under the debris for hours. The three-year-old found dead on Wednesday lay buried under furniture displaced during the incident, said National Disaster Response Force (NDRF) workers at Pimpri Pada, one of the two sites struck by the mishap. We don’t know how many more are still under the debris here,” said Naresh Lad (28), an employee of a private company in Lalbaug.\n",
      "\n",
      "\u001b[31m    TMC cornered, BJP takes lead in tracking cut money agents  \u001b[0m\n",
      "\n",
      "\u001b[34m    On June 18, Chief Minister Mamata Banerjee asked her party leaders to return the “cut money”, or illegal commissions, they had allegedly collected from people to “facilitate” various government schemes.  \u001b[0m\n",
      "\n",
      "READ | In West Bengal, TMC men’s cut money rate list: Rs 200 for last rites, Rs 25,000 for house Soon after Banerjee’s call, State Minister and senior TMC leader Firhad Hakim accused the BJP of instigating the violence “to create unrest in Bengal”. Read | Grassroot TMC leaders face cut-money blowback in Bengal: ‘Can’t return home’ At Boinchi in Hooghly, the BJP is at the forefront of planning protests, drawing up lists, lodging mass complaints and organising gheraos outside the houses of local TMC leaders. The complaint reads: “We, the undersigned residents of Nuniadanga village in Hooghly district, inform you that local TMC leaders Subhas Biswas and Sikha Majumdar have taken Rs 500 from us to help us get LPG connections through the Pradhan Mantri Ujjwala Yojana. Speaking to The Indian Express, a senior police says the government may also charge elected public representatives and government functionaries who accept “cut money” under a tough law that provides for life imprisonment.\n",
      "\n",
      "\u001b[32mworld\u001b[0m\n",
      "\n"
     ]
    },
    {
     "name": "stdout",
     "output_type": "stream",
     "text": [
      "\u001b[31m    Volcano erupts on Italian island of Stromboli, starts fires  \u001b[0m\n",
      "\n",
      "\u001b[34m    Rescue services said the eruption had started fires on the western side of the small Mediterranean island north of Sicily.  \u001b[0m\n",
      "\n",
      "A volcano on the Italian island of Stromboli erupted on Wednesday, throwing ash high into the sky and enveloping the popular tourist destination in smoke, the National Institute of Geophysics and Vulcanology (INGV) said. Rescue services said the eruption had started fires on the western side of the small Mediterranean island north of Sicily. There was a loud roar,” said Michela Favorito, who works in a hotel near Fico Grande, on the east side of the island. INGV expert Stefano Branca told Reuters there had been a “paroxysmal eruption” on the island, when high-pressure magma explodes from a shallow, underground reservoir.\n",
      "\n",
      "\u001b[31m    Fire destroys Jim Beam warehouse filled with bourbon barrels  \u001b[0m\n",
      "\n",
      "\u001b[34m    Jim Beam is the world's largest bourbon brand. The classic American whiskey brand is owned by Suntory Holdings Ltd., a Japanese beverage company.  \u001b[0m\n",
      "\n",
      "A fire destroyed a massive Jim Beam warehouse filled with 45,000 barrels of bourbon, sending flames shooting into the night sky and generating so much heat that firetruck lights melted, authorities said Wednesday. “So when they go to put it out, there will be less contaminated runoff that goes into a drinking-water tributary.” Beam Suntory officials said the multi-story warehouse that burned contained “relatively young whiskey,” meaning it had not reached maturity for bottling for consumers. “Given the age of the lost whiskey, this fire will not impact the availability of Jim Beam for consumers,” the spirits company said in a statement. Beam Suntory officials said the distiller has a “comprehensive” warehouse safety program that includes regular inspections and “rigorous protocols” to promote safety.\n",
      "\n",
      "\u001b[31m    Fire destroys Jim Beam warehouse filled with bourbon barrels  \u001b[0m\n",
      "\n",
      "\u001b[34m    Jim Beam is the world's largest bourbon brand. The classic American whiskey brand is owned by Suntory Holdings Ltd., a Japanese beverage company.  \u001b[0m\n",
      "\n",
      "A fire destroyed a massive Jim Beam warehouse filled with 45,000 barrels of bourbon, sending flames shooting into the night sky and generating so much heat that firetruck lights melted, authorities said Wednesday. “So when they go to put it out, there will be less contaminated runoff that goes into a drinking-water tributary.” Beam Suntory officials said the multi-story warehouse that burned contained “relatively young whiskey,” meaning it had not reached maturity for bottling for consumers. “Given the age of the lost whiskey, this fire will not impact the availability of Jim Beam for consumers,” the spirits company said in a statement. Beam Suntory officials said the distiller has a “comprehensive” warehouse safety program that includes regular inspections and “rigorous protocols” to promote safety.\n",
      "\n",
      "\u001b[31m    US declares Baloch separatist group BLA a terror outfit  \u001b[0m\n",
      "\n",
      "\u001b[34m    \"The BLA is an armed separatist group that targets security forces and civilians, mainly in ethnic Baloch areas of Pakistan,\" the State department said. The department made it a crime for anyone in the US to assist the BLA militants.  \u001b[0m\n",
      "\n",
      "The US has declared separatist group Balochistan Liberation Army (BLA), which is fighting Pakistani rule in the restive Balochistan province, as a terrorist organisation, weeks after it attacked a five-star hotel in the port city of Gwadar. “The BLA is an armed separatist group that targets security forces and civilians, mainly in ethnic Baloch areas of Pakistan,” the State Department said Tuesday. “The outfit has carried out several terrorist attacks in the past year, including a suicide attack in August, 2018 that targeted Chinese engineers in Balochistan, a November, 2018 attack on the Chinese consulate in Karachi, and a May, 2019 attack against a luxury hotel in Gwadar,” it added. US State Department’s ban on BLA is beyond comprehension and unjustified,” he said in a statement.\n",
      "\n"
     ]
    }
   ],
   "source": [
    "getPrintSummarizedSections(links,summaryLength,ArticlesPerSection)"
   ]
  },
  {
   "cell_type": "code",
   "execution_count": null,
   "metadata": {
    "scrolled": true
   },
   "outputs": [],
   "source": []
  }
 ],
 "metadata": {
  "kernelspec": {
   "display_name": "Python 3",
   "language": "python",
   "name": "python3"
  },
  "language_info": {
   "codemirror_mode": {
    "name": "ipython",
    "version": 3
   },
   "file_extension": ".py",
   "mimetype": "text/x-python",
   "name": "python",
   "nbconvert_exporter": "python",
   "pygments_lexer": "ipython3",
   "version": "3.6.8"
  }
 },
 "nbformat": 4,
 "nbformat_minor": 2
}
