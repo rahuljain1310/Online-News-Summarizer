{
 "cells": [
  {
   "cell_type": "markdown",
   "metadata": {},
   "source": [
    "# Summarizer "
   ]
  },
  {
   "cell_type": "markdown",
   "metadata": {},
   "source": [
    "#### Importing Libraries Summarizer"
   ]
  },
  {
   "cell_type": "code",
   "execution_count": null,
   "metadata": {},
   "outputs": [],
   "source": [
    "from nltk.tokenize import sent_tokenize, word_tokenize\n",
    "from nltk.corpus import stopwords\n",
    "from string import punctuation\n",
    "from nltk.probability import FreqDist\n",
    "from heapq import nlargest\n",
    "from collections import defaultdict\n",
    "import os,math"
   ]
  },
  {
   "cell_type": "markdown",
   "metadata": {},
   "source": [
    "#### Summary Extraction Step Functions"
   ]
  },
  {
   "cell_type": "code",
   "execution_count": null,
   "metadata": {},
   "outputs": [],
   "source": [
    "def read_file(path):\n",
    "    try:\n",
    "        with open(path, 'r',encoding='utf-8') as file:\n",
    "            return file.read()\n",
    "    except IOError as e:\n",
    "        print(e)\n",
    "        print(\"Fatal Error: File ({}) could not be located or is not readable.\".format(path))\n",
    "        \n",
    "def sanitize_input(data):\n",
    "    replace = {\n",
    "        ord('\\f') : ' ', \n",
    "        ord('\\t') : ' ',\n",
    "        ord('\\n') : ' ',\n",
    "        ord('\\r') : None\n",
    "    }\n",
    "    return data.translate(replace)\n",
    "\n",
    "def tokenize_content(content):\n",
    "    stop_words = set(stopwords.words('english') + list(punctuation))\n",
    "    words = word_tokenize(content.lower())\n",
    "    return [sent_tokenize(content), [word for word in words if word not in stop_words] ]\n",
    "\n",
    "def score_tokens(filterd_words, sentence_tokens):\n",
    "    word_freq = FreqDist(filterd_words)\n",
    "    ranking = defaultdict(int)\n",
    "    for i, sentence in enumerate(sentence_tokens):\n",
    "        for word in word_tokenize(sentence.lower()):\n",
    "            if word in word_freq:\n",
    "                ranking[i] += word_freq[word]\n",
    "    return ranking\n",
    "\n",
    "def summarize(ranks, sentences, length):\n",
    "    if int(length) > len(sentences): \n",
    "        print(\"Error, more sentences requested than available. Use --l (--length) flag to adjust.\")\n",
    "        exit()\n",
    "\n",
    "    indexes = nlargest(length, ranks, key=ranks.get)\n",
    "    final_sentences = [sentences[j] for j in sorted(indexes)]\n",
    "    return ' '.join(final_sentences) "
   ]
  },
  {
   "cell_type": "markdown",
   "metadata": {},
   "source": [
    "####  Extract Summary From File / Content"
   ]
  },
  {
   "cell_type": "code",
   "execution_count": null,
   "metadata": {},
   "outputs": [],
   "source": [
    "def SummaryFromContent(content,length=None):\n",
    "    content = sanitize_input(content)\n",
    "    sentence_tokens, word_tokens = tokenize_content(content)  \n",
    "    sentence_ranks = score_tokens(word_tokens, sentence_tokens)\n",
    "    if not length:\n",
    "        length = int (math.sqrt(len(sentence_ranks))+1)\n",
    "    summary =  summarize(sentence_ranks, sentence_tokens, length)\n",
    "    return summary\n",
    "def SummaryFromFile(filepath,length=None):\n",
    "    content = read_file(filepath)\n",
    "    return SummaryFromContent(content,length)"
   ]
  },
  {
   "cell_type": "markdown",
   "metadata": {},
   "source": [
    "##### Test Summary "
   ]
  },
  {
   "cell_type": "code",
   "execution_count": null,
   "metadata": {},
   "outputs": [],
   "source": [
    "filepath = os.getcwd()+'\\\\News.txt'\n",
    "length = 4\n",
    "SummaryFromFile(filepath)"
   ]
  },
  {
   "cell_type": "markdown",
   "metadata": {},
   "source": [
    "## Extracting Indian Express"
   ]
  },
  {
   "cell_type": "markdown",
   "metadata": {},
   "source": [
    "#### Installing Web Extraction libraries"
   ]
  },
  {
   "cell_type": "code",
   "execution_count": null,
   "metadata": {},
   "outputs": [],
   "source": [
    "import bs4\n",
    "import urllib3\n",
    "import csv\n",
    "urllib3.disable_warnings()\n",
    "http = urllib3.PoolManager()"
   ]
  },
  {
   "cell_type": "markdown",
   "metadata": {},
   "source": [
    "#### Step Functions Scraping Articles"
   ]
  },
  {
   "cell_type": "code",
   "execution_count": null,
   "metadata": {},
   "outputs": [],
   "source": [
    "def NewsLinksHindu(mainlink):\n",
    "    news = []\n",
    "    r = http.request('GET', mainlink)\n",
    "    source = r.data\n",
    "    if(r.status==200):\n",
    "        soup = bs4.BeautifulSoup(source, \"lxml\")\n",
    "        archivesList = soup.find('ul',{'class':'archive-list'})\n",
    "        news = [link.get('href') for link in archivesList.findAll('a') ]\n",
    "    return news\n",
    "\n",
    "def NewsLinksIndianExpress(mainlink):\n",
    "    news = []\n",
    "    title = mainlink.split('/')[-2]\n",
    "    r = http.request('GET', mainlink)\n",
    "    source = r.data\n",
    "    if(r.status==200):\n",
    "        soup = bs4.BeautifulSoup(source, \"lxml\")\n",
    "        news = [link.get('href') for link in soup.findAll('a')]\n",
    "        news = [c for c in news if not c.find('article/'+title) ==-1 ]\n",
    "    return news\n",
    "\n",
    "def getArticleFromLink(link):\n",
    "    r = http.request('GET', link)\n",
    "    source = r.data\n",
    "    Article = {}\n",
    "    if(r.status==200):\n",
    "        soup = bs4.BeautifulSoup(source, \"lxml\")\n",
    "        heading = soup.find('h1', {'class':'m-story-header__title'}).contents[0]\n",
    "        heading = sanitize_input(heading)\n",
    "        subheading = soup.find('h2', {'class':'m-story-header__intro'}).contents[0]\n",
    "        subheading = sanitize_input(subheading)\n",
    "        ArticleDiv = soup.find('div',{'class':'o-story-content__main'})\n",
    "        ArticlePara = [p.contents[0] for p in ArticleDiv.findAll('p')]\n",
    "        ArticlePara = [c.encode('utf-8').decode() for c in ArticlePara]\n",
    "        Content = ' '.join(ArticlePara)\n",
    "        Content = sanitize_input(Content)\n",
    "        Article = [heading,subheading,Content]\n",
    "        return Article\n",
    "def ArticlesFromSection(mainlink):\n",
    "    articleLinks = NewsLinksIndianExpress(mainlink)\n",
    "    return [getArticleFromLink(e) for e in articleLinks[1:2]]"
   ]
  },
  {
   "cell_type": "markdown",
   "metadata": {},
   "source": [
    "#### Testing Scraping"
   ]
  },
  {
   "cell_type": "code",
   "execution_count": null,
   "metadata": {},
   "outputs": [],
   "source": [
    "links = ['https://indianexpress.com/section/cities/']\n",
    "articles = {}\n",
    "for c in links:\n",
    "    title = c.split('/')[-2]\n",
    "    articles[title] = ArticlesFromSection(c)\n",
    "    print(articles[title])"
   ]
  },
  {
   "cell_type": "markdown",
   "metadata": {},
   "source": [
    "# Scarping And Summarising"
   ]
  },
  {
   "cell_type": "code",
   "execution_count": 100,
   "metadata": {},
   "outputs": [],
   "source": [
    "from termcolor import colored"
   ]
  },
  {
   "cell_type": "code",
   "execution_count": 110,
   "metadata": {},
   "outputs": [],
   "source": [
    "def getSummarizedArticle(link,length):\n",
    "    Article = getArticleFromLink(link)\n",
    "    Article[2] = SummaryFromContent(Article[2],length)\n",
    "    return Article\n",
    "def getSummarizedArticleSection(mainlink,lengthSummary,noArticles=1):\n",
    "    articleLinks = NewsLinksIndianExpress(mainlink)\n",
    "    return [getSummarizedArticle(e,lengthSummary) for e in articleLinks[1:1+noArticles]]\n",
    "def getPrintSummarizedSections(sectionLinks,sumLength,noArticles):\n",
    "    for c in links:\n",
    "        title = c.split('/')[-2]\n",
    "        print(colored(title,'green')+'\\n')\n",
    "        articles[title] = getSummarizedArticleSection(c,sumlength,noArticles)\n",
    "        for x in articles[title]: \n",
    "            print(colored(x[0],'red')+'\\n')\n",
    "            print(colored(x[1],'blue')+'\\n')\n",
    "            print(x[2]+'\\n')"
   ]
  },
  {
   "cell_type": "code",
   "execution_count": 111,
   "metadata": {},
   "outputs": [
    {
     "name": "stdout",
     "output_type": "stream",
     "text": [
      "\u001b[32mcities\u001b[0m\n",
      "\n",
      "\u001b[31m    Delhi: Classroom politics escalates as BJP fires fresh salvo  \u001b[0m\n",
      "\n",
      "\u001b[34m    Citing purported minutes of Delhi government’s Finance Committee meeting in March 2018, Tiwari claimed the government constructed 366 nursery classrooms at an estimated cost of Rs 28.70 lakh each.  \u001b[0m\n",
      "\n",
      "Delhi  The Delhi BJP has alleged a “scam” of Rs 2,000 crore in construction of classrooms at Delhi government schools, and has sought the resignation of Sisodia, who is also the education minister. AAP chief spokesperson Saurabh Bhardwaj said Tiwari has nothing positive to say on education and has failed to list even 10 schools in BJP-ruled states which can be compared to Delhi government schools. He said the Delhi BJP and its president were trying to “malign” the AAP model of education by levelling “totally baseless and fabricated” allegations. Leader of Opposition Vijender Gupta, who released the report, said that while the average pass percentage of Class X in private schools in Delhi was 93.18%, at Delhi government schools the figure stood at 71.58%.\n",
      "\n",
      "\u001b[32mindia\u001b[0m\n",
      "\n",
      "\u001b[31m    Days after letter to Bengal on ‘rising’ violence, govt says no data on crime since 2016  \u001b[0m\n",
      "\n",
      "\u001b[34m    This comes days after the Union Ministry of Home Affairs (MHA) sent an advisory to the West Bengal government on June 15 in the wake of agitation by doctors in the state. In it, the MHA had quoted reports available with the ministry to give exact figures of political violence in the state.  \u001b[0m\n",
      "\n",
      "Correspondingly, the death toll rose from 36 in 2016 to 96 in 2018, while 26 deaths have already taken place in 2019 till date.” This was the second of three MHA missives to West Bengal on law and order situation in the state since the Lok Sabha election results were announced on May 23. Published data for the years 2017, 2018, 2019 are not available.” In its June 15 communication, the Centre had sought a report from the TMC government in Bengal on measures taken to contain political violence and to investigate such incidents of violence to bring the culprits to book. Pointing out the growing number of incidents of election-related and political violence, and casualties over four years from 2016 to 2019, the Home Ministry had stated that “unabated violence over the years is evidently a matter of deep concern”. The June 15 advisory stated, “Continued trend of political violence from 2016 through 2019, as evident from the above figures, is indicative of failure on the part of the law enforcement machinery of the State to maintain rule of law and to inspire a sense of security among the people.\n",
      "\n",
      "\u001b[32mworld\u001b[0m\n",
      "\n",
      "\u001b[31m    Volcano erupts on Italian island of Stromboli, starts fires  \u001b[0m\n",
      "\n",
      "\u001b[34m    Rescue services said the eruption had started fires on the western side of the small Mediterranean island north of Sicily.  \u001b[0m\n",
      "\n",
      "A volcano on the Italian island of Stromboli erupted on Wednesday, throwing ash high into the sky and enveloping the popular tourist destination in smoke, the National Institute of Geophysics and Vulcanology (INGV) said. Rescue services said the eruption had started fires on the western side of the small Mediterranean island north of Sicily. There was a loud roar,” said Michela Favorito, who works in a hotel near Fico Grande, on the east side of the island. INGV expert Stefano Branca told Reuters there had been a “paroxysmal eruption” on the island, when high-pressure magma explodes from a shallow, underground reservoir.\n",
      "\n"
     ]
    }
   ],
   "source": [
    "articles = {}\n",
    "links = ['https://indianexpress.com/section/cities/',\n",
    "         'https://indianexpress.com/section/india/',\n",
    "         'https://indianexpress.com/section/world/']\n",
    "getPrintSummarizedSections(links)"
   ]
  },
  {
   "cell_type": "code",
   "execution_count": null,
   "metadata": {},
   "outputs": [],
   "source": []
  }
 ],
 "metadata": {
  "kernelspec": {
   "display_name": "Python 3",
   "language": "python",
   "name": "python3"
  },
  "language_info": {
   "codemirror_mode": {
    "name": "ipython",
    "version": 3
   },
   "file_extension": ".py",
   "mimetype": "text/x-python",
   "name": "python",
   "nbconvert_exporter": "python",
   "pygments_lexer": "ipython3",
   "version": "3.6.8"
  }
 },
 "nbformat": 4,
 "nbformat_minor": 2
}
